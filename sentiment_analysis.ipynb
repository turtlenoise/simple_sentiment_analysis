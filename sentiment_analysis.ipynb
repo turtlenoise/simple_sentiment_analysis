{
  "nbformat": 4,
  "nbformat_minor": 0,
  "metadata": {
    "colab": {
      "name": "sentiment_analysis.ipynb",
      "provenance": [],
      "collapsed_sections": [],
      "authorship_tag": "ABX9TyO/tK3l+vSjxdo1ToTsN8fQ",
      "include_colab_link": true
    },
    "kernelspec": {
      "name": "python3",
      "display_name": "Python 3"
    },
    "language_info": {
      "name": "python"
    }
  },
  "cells": [
    {
      "cell_type": "markdown",
      "metadata": {
        "id": "view-in-github",
        "colab_type": "text"
      },
      "source": [
        "<a href=\"https://colab.research.google.com/github/turtlenoise/simple_sentiment_analysis/blob/master/sentiment_analysis.ipynb\" target=\"_parent\"><img src=\"https://colab.research.google.com/assets/colab-badge.svg\" alt=\"Open In Colab\"/></a>"
      ]
    },
    {
      "cell_type": "code",
      "metadata": {
        "id": "8ox54F6WLOIz"
      },
      "source": [
        "import thinc.extra.datasets\n",
        "\n",
        "imdb_data = thinc.extra.datasets.imdb()\n",
        "\n",
        "sentences, labels = zip(*imdb_data[1])"
      ],
      "execution_count": 52,
      "outputs": []
    },
    {
      "cell_type": "code",
      "metadata": {
        "colab": {
          "base_uri": "https://localhost:8080/"
        },
        "id": "lizNOuyuLZly",
        "outputId": "5bec7e06-7c24-4276-fc50-3119e495a52a"
      },
      "source": [
        "print(str(labels[0]) + \" \" + sentences[0])"
      ],
      "execution_count": 53,
      "outputs": [
        {
          "output_type": "stream",
          "text": [
            "0 This movie can best be described as a very long episode of a very bad sitcom. How many vaguely humorous misunderstandings can you cram into just one movie? Notes are misplaced, bags are switched, conversations are misheard, people get mixed up, situations are misinterpreted, and somewhere along the line people are supposed to laugh about something. The writers are really struggling to keep everything going, which makes the dialogues feel really forced. If anyone in this movie acted like a real person all this would be resolved in around two minutes or so and everyone could go back to their lives, but they have to keep the misunderstandings going. At times this movie also tries to go for some juvenile laughs, but all those do is remember you about how funny \"American Pie\" was. The scene with the nerd telling the hooker (who he thinks is a foreign exchange student) to \"eat his sausage\" goes on forever, not one second of it is funny. I've got to give this movie some credit though: because of the subplot about stolen money, it's not as boring as it could have been. It also has a laugh here and there, but then sadly goes back to yet another character misunderstanding stuff. Overall this movie is just way too lame.\n"
          ],
          "name": "stdout"
        }
      ]
    },
    {
      "cell_type": "code",
      "metadata": {
        "id": "Np47LULCMeW5"
      },
      "source": [
        "negative_text = \"\"\n",
        "for i in range(1,1500):\n",
        "  if (labels[i] == 0):\n",
        "    negative_text = negative_text + sentences[i]"
      ],
      "execution_count": 54,
      "outputs": []
    },
    {
      "cell_type": "code",
      "metadata": {
        "id": "mj2kacr4O2b3"
      },
      "source": [
        "import spacy\n",
        "nlp = spacy.load('en_core_web_sm')\n",
        "corpus = nlp(negative_text)"
      ],
      "execution_count": 60,
      "outputs": []
    },
    {
      "cell_type": "code",
      "metadata": {
        "id": "sENdi_i6T89E"
      },
      "source": [
        "def has_negative_children(token):\n",
        "  for child in token.children:\n",
        "    if (child.dep_ == 'neg'):\n",
        "      return True\n",
        "  return False \n",
        "\n",
        "negative_word_frequency = dict()\n",
        "for sent in corpus.sents:\n",
        "    for token in sent:\n",
        "        if (token.is_stop == False):\n",
        "          if (token.lemma_ in negative_word_frequency.keys()) and (has_negative_children(token) == False):\n",
        "              negative_word_frequency[token.lemma_] += 1\n",
        "          else:\n",
        "              negative_word_frequency[token.lemma_] = 1"
      ],
      "execution_count": 64,
      "outputs": []
    },
    {
      "cell_type": "code",
      "metadata": {
        "id": "mbdEGrEmmoOy"
      },
      "source": [
        "cutRareWords = sorted(negative_word_frequency.items(), key=lambda item: item[1])[7000:-100]\n",
        "negative_word_frequency = dict(cutRareWords)"
      ],
      "execution_count": 65,
      "outputs": []
    },
    {
      "cell_type": "code",
      "metadata": {
        "colab": {
          "base_uri": "https://localhost:8080/"
        },
        "id": "joBo-diKd-Xq",
        "outputId": "909daf64-6244-432f-d4a9-44d983f06e18"
      },
      "source": [
        "negative_word_frequency['bad']"
      ],
      "execution_count": 66,
      "outputs": [
        {
          "output_type": "execute_result",
          "data": {
            "text/plain": [
              "41"
            ]
          },
          "metadata": {
            "tags": []
          },
          "execution_count": 66
        }
      ]
    },
    {
      "cell_type": "code",
      "metadata": {
        "colab": {
          "base_uri": "https://localhost:8080/"
        },
        "id": "F7nPsyH4i0J-",
        "outputId": "6f8e25ab-bfd8-4abf-dbcd-a58ee3b869ed"
      },
      "source": [
        "negative_word_frequency['good']"
      ],
      "execution_count": 67,
      "outputs": [
        {
          "output_type": "execute_result",
          "data": {
            "text/plain": [
              "44"
            ]
          },
          "metadata": {
            "tags": []
          },
          "execution_count": 67
        }
      ]
    },
    {
      "cell_type": "code",
      "metadata": {
        "id": "2JiWq-Tvgwf0"
      },
      "source": [
        "positive_text = \"\"\n",
        "for i in range(1,1480):\n",
        "  if (labels[i] == 1):\n",
        "    positive_text = positive_text + sentences[i]"
      ],
      "execution_count": 70,
      "outputs": []
    },
    {
      "cell_type": "code",
      "metadata": {
        "id": "Bz3sufVWhIzI"
      },
      "source": [
        "corpus = nlp(positive_text)"
      ],
      "execution_count": 71,
      "outputs": []
    },
    {
      "cell_type": "code",
      "metadata": {
        "id": "9WMNW7sciPDS"
      },
      "source": [
        "positive_word_frequency = dict()\n",
        "for sent in corpus.sents:\n",
        "    for token in sent:\n",
        "        if (token.is_stop == False):\n",
        "          if (token.lemma_ in positive_word_frequency.keys()) and (has_negative_children(token) == False):\n",
        "              positive_word_frequency[token.lemma_] += 1\n",
        "          else:\n",
        "              positive_word_frequency[token.lemma_] = 1\n"
      ],
      "execution_count": 79,
      "outputs": []
    },
    {
      "cell_type": "code",
      "metadata": {
        "id": "QYuiEXtFs_vZ"
      },
      "source": [
        "cutRareWords = sorted(positive_word_frequency.items(), key=lambda item: item[1])[2000:]\n",
        "positive_word_frequency = dict(cutRareWords)"
      ],
      "execution_count": 80,
      "outputs": []
    },
    {
      "cell_type": "code",
      "metadata": {
        "colab": {
          "base_uri": "https://localhost:8080/"
        },
        "id": "N2O-LLPsiuJd",
        "outputId": "34f95ed2-f885-439c-9c71-dca01a7f8844"
      },
      "source": [
        "positive_word_frequency['good']"
      ],
      "execution_count": 81,
      "outputs": [
        {
          "output_type": "execute_result",
          "data": {
            "text/plain": [
              "357"
            ]
          },
          "metadata": {
            "tags": []
          },
          "execution_count": 81
        }
      ]
    },
    {
      "cell_type": "code",
      "metadata": {
        "colab": {
          "base_uri": "https://localhost:8080/"
        },
        "id": "CpsgkFDDi8Qc",
        "outputId": "c120355c-9e49-4942-a690-63caf6799f8b"
      },
      "source": [
        "positive_word_frequency['bad']"
      ],
      "execution_count": 82,
      "outputs": [
        {
          "output_type": "execute_result",
          "data": {
            "text/plain": [
              "12"
            ]
          },
          "metadata": {
            "tags": []
          },
          "execution_count": 82
        }
      ]
    },
    {
      "cell_type": "code",
      "metadata": {
        "id": "VUZDGtDOjLl9"
      },
      "source": [
        "word_values = dict()\n",
        "for word in negative_word_frequency:\n",
        "  if (word not in word_values):\n",
        "    word_values[word] = negative_word_frequency[word]\n",
        "\n",
        "for word in positive_word_frequency:\n",
        "  if (word in word_values):\n",
        "    word_values[word] = positive_word_frequency[word] / (positive_word_frequency[word] + negative_word_frequency[word])\n",
        "  else: \n",
        "    word_values[word] = 1\n",
        "\n",
        "for word in negative_word_frequency:\n",
        "    if (word_values[word] > 1):\n",
        "      word_values[word] = 0\n"
      ],
      "execution_count": 83,
      "outputs": []
    },
    {
      "cell_type": "code",
      "metadata": {
        "colab": {
          "base_uri": "https://localhost:8080/"
        },
        "id": "grpB2Q40iX4X",
        "outputId": "28364146-b008-4832-978c-693aa740eaf5"
      },
      "source": [
        "word_values['good']"
      ],
      "execution_count": 84,
      "outputs": [
        {
          "output_type": "execute_result",
          "data": {
            "text/plain": [
              "0.8902743142144638"
            ]
          },
          "metadata": {
            "tags": []
          },
          "execution_count": 84
        }
      ]
    },
    {
      "cell_type": "code",
      "metadata": {
        "colab": {
          "base_uri": "https://localhost:8080/"
        },
        "id": "moiizTCuqGZe",
        "outputId": "eda3aefe-18b3-4ced-eaf6-3e8268971dde"
      },
      "source": [
        "word_values['lousy']"
      ],
      "execution_count": 85,
      "outputs": [
        {
          "output_type": "execute_result",
          "data": {
            "text/plain": [
              "0"
            ]
          },
          "metadata": {
            "tags": []
          },
          "execution_count": 85
        }
      ]
    },
    {
      "cell_type": "code",
      "metadata": {
        "colab": {
          "base_uri": "https://localhost:8080/"
        },
        "id": "dsgHuNWLqLA0",
        "outputId": "f508625b-8d17-4a55-ed1d-7382005fbcb2"
      },
      "source": [
        "word_values['blue']"
      ],
      "execution_count": 86,
      "outputs": [
        {
          "output_type": "execute_result",
          "data": {
            "text/plain": [
              "0.2"
            ]
          },
          "metadata": {
            "tags": []
          },
          "execution_count": 86
        }
      ]
    },
    {
      "cell_type": "code",
      "metadata": {
        "id": "9CBPm_46qPBr"
      },
      "source": [
        "import re\n",
        "\n",
        "def get_score(example_sentence, pos_val, neg_val):\n",
        "  example_sentence = re.sub(r'[^\\w\\s]','',example_sentence)  \n",
        "  corpus = nlp(example_sentence)\n",
        "  sum = 0\n",
        "  count = 0\n",
        "  for sent in corpus.sents:\n",
        "      for token in sent:\n",
        "\n",
        "        if (token.lemma_ in word_values) and (token.pos_ == 'ADJ' or token.pos_ == 'ADV'):\n",
        "          if (word_values[token.lemma_]) < 0.5:\n",
        "            value = neg_val\n",
        "          else: \n",
        "            value = pos_val\n",
        "          sum = sum + 10*value\n",
        "          count = count + 10\n",
        "        # if (token.lemma_ in word_values):\n",
        "        #   if (word_values[token.lemma_]) < 0.5:\n",
        "        #     value = 0\n",
        "        #   else:\n",
        "        #     value = 1\n",
        "        #   sum = sum + value\n",
        "        #   count = count + 1\n",
        "  \n",
        "  if (count == 0):\n",
        "      average_sentiment = 0.5\n",
        "  else:\n",
        "    average_sentiment = sum/count\n",
        "  \n",
        "  return average_sentiment\n"
      ],
      "execution_count": 108,
      "outputs": []
    },
    {
      "cell_type": "code",
      "metadata": {
        "colab": {
          "base_uri": "https://localhost:8080/"
        },
        "id": "c5CDaIKyszjm",
        "outputId": "64e1507c-0b85-46ea-d980-67b9d1ce1642"
      },
      "source": [
        "example_sentence = \"Best movie I have ever seen, amazing job, the director is a genius.\"\n",
        "get_score(example_sentence)"
      ],
      "execution_count": 93,
      "outputs": [
        {
          "output_type": "execute_result",
          "data": {
            "text/plain": [
              "0.68"
            ]
          },
          "metadata": {
            "tags": []
          },
          "execution_count": 93
        }
      ]
    },
    {
      "cell_type": "code",
      "metadata": {
        "colab": {
          "base_uri": "https://localhost:8080/"
        },
        "id": "CfFoMHaSs4e_",
        "outputId": "d6b18d5b-e1f8-432f-b69c-3b7267552988"
      },
      "source": [
        "example_sentence = \"Scary, boring, totally disgusting, yucks.\"\n",
        "get_score(example_sentence)"
      ],
      "execution_count": 94,
      "outputs": [
        {
          "output_type": "execute_result",
          "data": {
            "text/plain": [
              "0.3"
            ]
          },
          "metadata": {
            "tags": []
          },
          "execution_count": 94
        }
      ]
    },
    {
      "cell_type": "code",
      "metadata": {
        "colab": {
          "base_uri": "https://localhost:8080/"
        },
        "id": "IuwAlFhVs9gE",
        "outputId": "bf75b697-8653-4d1f-98aa-87140d85ac26"
      },
      "source": [
        "example_sentence = \"Best movie I have ever seen although it had some scary, boring and disgusting scenes.\"\n",
        "get_score(example_sentence)"
      ],
      "execution_count": 95,
      "outputs": [
        {
          "output_type": "execute_result",
          "data": {
            "text/plain": [
              "0.49000000000000005"
            ]
          },
          "metadata": {
            "tags": []
          },
          "execution_count": 95
        }
      ]
    },
    {
      "cell_type": "code",
      "metadata": {
        "id": "NWszeYhMwKs9"
      },
      "source": [
        "def cross_validate():\n",
        "  neg_vals = [0.09,0.1,0.11]\n",
        "  pos_vals = [0.67,0.68,0.69]\n",
        "\n",
        "  highest_accuracy = 0\n",
        "  highest_pos_val = 0\n",
        "  highest_neg_val = 0\n",
        "\n",
        "  for pos_val in pos_vals:\n",
        "    for neg_val in neg_vals:\n",
        "      correct = 0\n",
        "      all = 0\n",
        "      for i in range(1500,3000):\n",
        "        value = get_score(sentences[i], pos_val, neg_val)  \n",
        "        if (labels[i] == 0) and (value < 0.5):\n",
        "            correct = correct + 1\n",
        "        if (labels[i] == 1) and (value > 0.5):\n",
        "            correct = correct + 1\n",
        "        all = all + 1\n",
        "\n",
        "  accuracy = correct/all\n",
        "  if (accuracy*100 > highest_accuracy):\n",
        "    highest_accuracy = accuracy*100\n",
        "    highest_pos_val = pos_val\n",
        "    highest_neg_val = neg_val\n",
        "  return highest_accuracy,highest_pos_val,highest_neg_val\n"
      ],
      "execution_count": 116,
      "outputs": []
    },
    {
      "cell_type": "code",
      "metadata": {
        "id": "u4W459yBdfHv",
        "outputId": "876c5ddb-707f-4740-de84-8f3a7109b6a7",
        "colab": {
          "base_uri": "https://localhost:8080/"
        }
      },
      "source": [
        "accuracy,pos_val,neg_val = cross_validate()\n",
        "accuracy"
      ],
      "execution_count": 117,
      "outputs": [
        {
          "output_type": "execute_result",
          "data": {
            "text/plain": [
              "70.33333333333334"
            ]
          },
          "metadata": {
            "tags": []
          },
          "execution_count": 117
        }
      ]
    },
    {
      "cell_type": "code",
      "metadata": {
        "id": "Ak4Tf0AtfLs9",
        "outputId": "1d778850-c2d4-495d-8cf1-546db0f9acde",
        "colab": {
          "base_uri": "https://localhost:8080/"
        }
      },
      "source": [
        "pos_val"
      ],
      "execution_count": 118,
      "outputs": [
        {
          "output_type": "execute_result",
          "data": {
            "text/plain": [
              "0.69"
            ]
          },
          "metadata": {
            "tags": []
          },
          "execution_count": 118
        }
      ]
    },
    {
      "cell_type": "code",
      "metadata": {
        "id": "nTNl51LFfNFn",
        "outputId": "17922854-b110-433b-bfc2-12829aff17b2",
        "colab": {
          "base_uri": "https://localhost:8080/"
        }
      },
      "source": [
        "neg_val"
      ],
      "execution_count": 119,
      "outputs": [
        {
          "output_type": "execute_result",
          "data": {
            "text/plain": [
              "0.11"
            ]
          },
          "metadata": {
            "tags": []
          },
          "execution_count": 119
        }
      ]
    }
  ]
}