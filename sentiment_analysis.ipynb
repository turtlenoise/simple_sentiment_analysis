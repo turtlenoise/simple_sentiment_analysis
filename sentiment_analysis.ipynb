{
  "nbformat": 4,
  "nbformat_minor": 0,
  "metadata": {
    "colab": {
      "name": "sentiment_analysis.ipynb",
      "provenance": [],
      "collapsed_sections": [],
      "authorship_tag": "ABX9TyO5xwWPOgc/48GJVkpJgytl",
      "include_colab_link": true
    },
    "kernelspec": {
      "name": "python3",
      "display_name": "Python 3"
    },
    "language_info": {
      "name": "python"
    }
  },
  "cells": [
    {
      "cell_type": "markdown",
      "metadata": {
        "id": "view-in-github",
        "colab_type": "text"
      },
      "source": [
        "<a href=\"https://colab.research.google.com/github/turtlenoise/simple_sentiment_analysis/blob/master/sentiment_analysis.ipynb\" target=\"_parent\"><img src=\"https://colab.research.google.com/assets/colab-badge.svg\" alt=\"Open In Colab\"/></a>"
      ]
    },
    {
      "cell_type": "code",
      "metadata": {
        "id": "8ox54F6WLOIz"
      },
      "source": [
        "import thinc.extra.datasets\n",
        "\n",
        "imdb_data = thinc.extra.datasets.imdb()\n",
        "\n",
        "sentences, labels = zip(*imdb_data[1])"
      ],
      "execution_count": 2,
      "outputs": []
    },
    {
      "cell_type": "code",
      "metadata": {
        "colab": {
          "base_uri": "https://localhost:8080/"
        },
        "id": "lizNOuyuLZly",
        "outputId": "f755f91f-1abe-4ce7-e887-9dcfa603d018"
      },
      "source": [
        "print(str(labels[0]) + \" \" + sentences[0])"
      ],
      "execution_count": 3,
      "outputs": [
        {
          "output_type": "stream",
          "text": [
            "0 this movie is so bad and Hellraiser part 1 to 3 are so great. Nothing is good Bloodline... a lot of gore but without meaning and the majority of time without originality. the movie is about the past, the present (1996) and the future of the puzzle box. The creator of the box and his offspring fight against some demon but nothing link up seriously the 3 stories. Pinhead is in the movie...but it isn't Pinhead, he is just a boring bad guy who kidnap kids and kill bird, and the worse...he talk too much. A thing that I really didn't understand is why the dog from hell????? He can't be a cenobites because he had nothing human. Why the dog can be killed by the pressure if the other creature from hell can receive bullets without problems????? Bloodline is incoherent with the movie series in many ways. For example Pinhead and Angelique are old friend in this movie but it's impossible that Pinhead met Angelique because Pinhead is just a soldier from the First World War and Angelique is an old demon and she live in Paris since sometimes like 200 years.\n"
          ],
          "name": "stdout"
        }
      ]
    },
    {
      "cell_type": "code",
      "metadata": {
        "id": "Np47LULCMeW5"
      },
      "source": [
        "negative_text = \"\"\n",
        "for i in range(1,1500):\n",
        "  if (labels[i] == 0):\n",
        "    negative_text = negative_text + sentences[i]"
      ],
      "execution_count": 19,
      "outputs": []
    },
    {
      "cell_type": "code",
      "metadata": {
        "id": "mj2kacr4O2b3"
      },
      "source": [
        "import spacy\n",
        "nlp = spacy.load('en_core_web_sm')\n",
        "corpus = nlp(negative_text)"
      ],
      "execution_count": 20,
      "outputs": []
    },
    {
      "cell_type": "code",
      "metadata": {
        "id": "sENdi_i6T89E"
      },
      "source": [
        "def has_negative_children(token):\n",
        "  for child in token.children:\n",
        "    if (child.dep_ == 'neg'):\n",
        "      return True\n",
        "  return False \n",
        "\n",
        "negative_adverb_list = []\n",
        "negative_adjective_list = []\n",
        "negative_word_frequency = dict()\n",
        "for sent in corpus.sents:\n",
        "    for token in sent:\n",
        "        if (token.lemma_ in negative_word_frequency.keys()) and (has_negative_children(token) == False):\n",
        "            negative_word_frequency[token.lemma_] += 1\n",
        "        else:\n",
        "            negative_word_frequency[token.lemma_] = 1\n",
        "        if (token.pos_ == 'ADJ') and (has_negative_children(token) == False):\n",
        "          negative_adjective_list.append(token.lemma_)\n",
        "        if (token.pos_ == \"ADV\") and (has_negative_children(token) == False):\n",
        "          negative_adverb_list.append(token.lemma_)"
      ],
      "execution_count": 41,
      "outputs": []
    },
    {
      "cell_type": "code",
      "metadata": {
        "colab": {
          "base_uri": "https://localhost:8080/"
        },
        "id": "joBo-diKd-Xq",
        "outputId": "b9458968-5176-4877-dff3-e812db07be95"
      },
      "source": [
        "negative_word_frequency['bad']"
      ],
      "execution_count": 44,
      "outputs": [
        {
          "output_type": "execute_result",
          "data": {
            "text/plain": [
              "140"
            ]
          },
          "metadata": {
            "tags": []
          },
          "execution_count": 44
        }
      ]
    },
    {
      "cell_type": "code",
      "metadata": {
        "colab": {
          "base_uri": "https://localhost:8080/"
        },
        "id": "F7nPsyH4i0J-",
        "outputId": "172d7656-6e92-4b40-b320-cb3b908e22d1"
      },
      "source": [
        "negative_word_frequency['good']"
      ],
      "execution_count": 52,
      "outputs": [
        {
          "output_type": "execute_result",
          "data": {
            "text/plain": [
              "8"
            ]
          },
          "metadata": {
            "tags": []
          },
          "execution_count": 52
        }
      ]
    },
    {
      "cell_type": "code",
      "metadata": {
        "id": "2JiWq-Tvgwf0"
      },
      "source": [
        "positive_text = \"\"\n",
        "for i in range(1,1500):\n",
        "  if (labels[i] == 1):\n",
        "    positive_text = positive_text + sentences[i]"
      ],
      "execution_count": 45,
      "outputs": []
    },
    {
      "cell_type": "code",
      "metadata": {
        "id": "Bz3sufVWhIzI"
      },
      "source": [
        "corpus = nlp(positive_text)"
      ],
      "execution_count": 46,
      "outputs": []
    },
    {
      "cell_type": "code",
      "metadata": {
        "id": "9WMNW7sciPDS"
      },
      "source": [
        "positive_adverb_list = []\n",
        "positive_adjective_list = []\n",
        "positive_word_frequency = dict()\n",
        "for sent in corpus.sents:\n",
        "    for token in sent:\n",
        "        if (token.lemma_ in positive_word_frequency.keys()) and (has_negative_children(token) == False):\n",
        "            positive_word_frequency[token.lemma_] += 1\n",
        "        else:\n",
        "            positive_word_frequency[token.lemma_] = 1\n",
        "        if (token.pos_ == 'ADJ') and (has_negative_children(token) == False):\n",
        "          positive_adjective_list.append(token.lemma_)\n",
        "        if (token.pos_ == 'ADV') and (has_negative_children(token) == False):\n",
        "          positive_adverb_list.append(token.lemma_)"
      ],
      "execution_count": 61,
      "outputs": []
    },
    {
      "cell_type": "code",
      "metadata": {
        "colab": {
          "base_uri": "https://localhost:8080/"
        },
        "id": "N2O-LLPsiuJd",
        "outputId": "80a83658-8ccb-43f6-9825-556d62182c1d"
      },
      "source": [
        "positive_word_frequency['good']"
      ],
      "execution_count": 51,
      "outputs": [
        {
          "output_type": "execute_result",
          "data": {
            "text/plain": [
              "261"
            ]
          },
          "metadata": {
            "tags": []
          },
          "execution_count": 51
        }
      ]
    },
    {
      "cell_type": "code",
      "metadata": {
        "colab": {
          "base_uri": "https://localhost:8080/"
        },
        "id": "CpsgkFDDi8Qc",
        "outputId": "df9815ee-281e-4242-c3b6-7f44e24be573"
      },
      "source": [
        "positive_word_frequency['bad']"
      ],
      "execution_count": 53,
      "outputs": [
        {
          "output_type": "execute_result",
          "data": {
            "text/plain": [
              "44"
            ]
          },
          "metadata": {
            "tags": []
          },
          "execution_count": 53
        }
      ]
    },
    {
      "cell_type": "code",
      "metadata": {
        "id": "VUZDGtDOjLl9"
      },
      "source": [
        "word_values = dict()\n",
        "for word in negative_word_frequency:\n",
        "  if (word not in word_values):\n",
        "    word_values[word] = negative_word_frequency[word]\n",
        "\n",
        "for word in positive_word_frequency:\n",
        "  if (word in word_values):\n",
        "    word_values[word] = positive_word_frequency[word] / (positive_word_frequency[word] + negative_word_frequency[word])\n",
        "  else: \n",
        "    word_values[word] = 1"
      ],
      "execution_count": 56,
      "outputs": []
    },
    {
      "cell_type": "code",
      "metadata": {
        "colab": {
          "base_uri": "https://localhost:8080/"
        },
        "id": "grpB2Q40iX4X",
        "outputId": "8c7921a3-a872-47ad-985a-415eb3f56cda"
      },
      "source": [
        "word_values['good']"
      ],
      "execution_count": 57,
      "outputs": [
        {
          "output_type": "execute_result",
          "data": {
            "text/plain": [
              "0.9702602230483272"
            ]
          },
          "metadata": {
            "tags": []
          },
          "execution_count": 57
        }
      ]
    },
    {
      "cell_type": "code",
      "metadata": {
        "colab": {
          "base_uri": "https://localhost:8080/"
        },
        "id": "moiizTCuqGZe",
        "outputId": "95a473e7-f825-4e17-9d7f-12f822caee60"
      },
      "source": [
        "word_values['lousy']"
      ],
      "execution_count": 58,
      "outputs": [
        {
          "output_type": "execute_result",
          "data": {
            "text/plain": [
              "0.16666666666666666"
            ]
          },
          "metadata": {
            "tags": []
          },
          "execution_count": 58
        }
      ]
    },
    {
      "cell_type": "code",
      "metadata": {
        "colab": {
          "base_uri": "https://localhost:8080/"
        },
        "id": "dsgHuNWLqLA0",
        "outputId": "d71c1077-4f0e-4cfe-9111-c3dc860d33e3"
      },
      "source": [
        "word_values['blue']"
      ],
      "execution_count": 59,
      "outputs": [
        {
          "output_type": "execute_result",
          "data": {
            "text/plain": [
              "0.6086956521739131"
            ]
          },
          "metadata": {
            "tags": []
          },
          "execution_count": 59
        }
      ]
    },
    {
      "cell_type": "code",
      "metadata": {
        "id": "9CBPm_46qPBr"
      },
      "source": [
        "def get_score(example_sentence):\n",
        "  corpus = nlp(example_sentence)\n",
        "  sum = 0\n",
        "  count = 0\n",
        "  for sent in corpus.sents:\n",
        "      for token in sent:\n",
        "        if (token.lemma_ in word_values) and (token.pos_ == 'ADJ' or token.pos_ == 'ADV'):\n",
        "          sum = sum + 2*word_values[token.lemma_]\n",
        "          count = count + 2\n",
        "        if (token.lemma_ in word_values):\n",
        "          sum = sum + word_values[token.lemma_]\n",
        "          count = count + 1\n",
        "  average_sentiment = sum/count\n",
        "  return average_sentiment\n"
      ],
      "execution_count": 98,
      "outputs": []
    },
    {
      "cell_type": "code",
      "metadata": {
        "colab": {
          "base_uri": "https://localhost:8080/"
        },
        "id": "c5CDaIKyszjm",
        "outputId": "08d1f300-0df2-4e88-845b-42d07733c1e9"
      },
      "source": [
        "example_sentence = \"Best movie I have ever seen, amazing job, the director is a genius.\"\n",
        "get_score(example_sentence)"
      ],
      "execution_count": 102,
      "outputs": [
        {
          "output_type": "execute_result",
          "data": {
            "text/plain": [
              "0.6621121985153715"
            ]
          },
          "metadata": {
            "tags": []
          },
          "execution_count": 102
        }
      ]
    },
    {
      "cell_type": "code",
      "metadata": {
        "colab": {
          "base_uri": "https://localhost:8080/"
        },
        "id": "CfFoMHaSs4e_",
        "outputId": "eff20d31-88de-437b-8a4e-c2c5c9c14b79"
      },
      "source": [
        "example_sentence = \"Scary, boring, totally disgusting, yucks.\"\n",
        "get_score(example_sentence)"
      ],
      "execution_count": 100,
      "outputs": [
        {
          "output_type": "execute_result",
          "data": {
            "text/plain": [
              "0.4402968060943681"
            ]
          },
          "metadata": {
            "tags": []
          },
          "execution_count": 100
        }
      ]
    },
    {
      "cell_type": "code",
      "metadata": {
        "colab": {
          "base_uri": "https://localhost:8080/"
        },
        "id": "IuwAlFhVs9gE",
        "outputId": "62bb1853-d6be-4929-935c-2006b71a5a99"
      },
      "source": [
        "example_sentence = \"Best movie I have ever seen although it had some scary, boring and disgusting scenes.\"\n",
        "get_score(example_sentence)"
      ],
      "execution_count": 101,
      "outputs": [
        {
          "output_type": "execute_result",
          "data": {
            "text/plain": [
              "0.5449916275254358"
            ]
          },
          "metadata": {
            "tags": []
          },
          "execution_count": 101
        }
      ]
    }
  ]
}