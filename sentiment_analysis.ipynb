{
  "nbformat": 4,
  "nbformat_minor": 0,
  "metadata": {
    "colab": {
      "name": "sentiment_analysis.ipynb",
      "provenance": [],
      "collapsed_sections": [],
      "authorship_tag": "ABX9TyPOWfz3du1taxPLGT8fbpNP",
      "include_colab_link": true
    },
    "kernelspec": {
      "name": "python3",
      "display_name": "Python 3"
    },
    "language_info": {
      "name": "python"
    }
  },
  "cells": [
    {
      "cell_type": "markdown",
      "metadata": {
        "id": "view-in-github",
        "colab_type": "text"
      },
      "source": [
        "<a href=\"https://colab.research.google.com/github/turtlenoise/simple_sentiment_analysis/blob/master/sentiment_analysis.ipynb\" target=\"_parent\"><img src=\"https://colab.research.google.com/assets/colab-badge.svg\" alt=\"Open In Colab\"/></a>"
      ]
    },
    {
      "cell_type": "code",
      "metadata": {
        "id": "8ox54F6WLOIz",
        "colab": {
          "base_uri": "https://localhost:8080/"
        },
        "outputId": "6eb89dfc-a07a-4cdb-fa01-8d01e94e548e"
      },
      "source": [
        "import thinc.extra.datasets\n",
        "\n",
        "imdb_data = thinc.extra.datasets.imdb()\n",
        "\n",
        "sentences, labels = zip(*imdb_data[1])"
      ],
      "execution_count": 1,
      "outputs": [
        {
          "output_type": "stream",
          "text": [
            "Downloading data from http://ai.stanford.edu/~amaas/data/sentiment/aclImdb_v1.tar.gz\n",
            "83738624/84125825 [============================>.] - ETA: 0s Untaring file...\n"
          ],
          "name": "stdout"
        }
      ]
    },
    {
      "cell_type": "code",
      "metadata": {
        "colab": {
          "base_uri": "https://localhost:8080/"
        },
        "id": "lizNOuyuLZly",
        "outputId": "0a2fcced-894d-4c58-cef5-d88a3310f7ea"
      },
      "source": [
        "print(str(labels[0]) + \" \" + sentences[0])"
      ],
      "execution_count": 2,
      "outputs": [
        {
          "output_type": "stream",
          "text": [
            "0 It is truly saddening to see a once-great director such as Deodato delivering such a second-rate giallo such as this. This movie was so terrible it effectively put an end to his movie career. The box lies, this is no \"erotic thriller\", hell during the film's 97 minute running time, Charlotte Lewis barely shows us one nipple! I thought it would pick up once William Burger showed up (in one of his last roles), but his character is killed off rather abruptly and lamely. This movie fails in pretty much every way. Claudio Simonetti's music is little more than noise, and the plot made very little sense at all. For some reason, Lewis is terrorized by ghosts which attack using phones. (?) By the end, the characters all seem to have forgotten the previous 90 minutes of hell they went through, and casually laugh as they sick the evil spirits on someone else, Lewis's ex-boyfriend. What?!? This movie did little for me besides anger me.... and bore me half to death. For genuine 80's Deodato fun, watch THE BARBARIANS or THE ATLANTIS INTERCEPTORS, let this one rot on the video store shelf. Argento could make a better giallo than this!\n"
          ],
          "name": "stdout"
        }
      ]
    },
    {
      "cell_type": "code",
      "metadata": {
        "id": "Np47LULCMeW5"
      },
      "source": [
        "negative_text = \"\"\n",
        "for i in range(1,1500):\n",
        "  if (labels[i] == 0):\n",
        "    negative_text = negative_text + sentences[i]"
      ],
      "execution_count": 3,
      "outputs": []
    },
    {
      "cell_type": "code",
      "metadata": {
        "id": "mj2kacr4O2b3"
      },
      "source": [
        "import spacy\n",
        "import re\n",
        "nlp = spacy.load('en_core_web_sm')\n",
        "negative_text = re.sub(r'[^\\w\\s]','',negative_text)  \n",
        "corpus = nlp(negative_text)"
      ],
      "execution_count": 340,
      "outputs": []
    },
    {
      "cell_type": "code",
      "metadata": {
        "id": "sENdi_i6T89E"
      },
      "source": [
        "def has_negative_children(token):\n",
        "  for child in token.children:\n",
        "    if (child.dep_ == 'neg'):\n",
        "      return True\n",
        "  return False \n",
        "\n",
        "# negative_adverb_list = []\n",
        "# negative_adjective_list = []\n",
        "negative_word_frequency = dict()\n",
        "for sent in corpus.sents:\n",
        "    for token in sent:\n",
        "        if (token.is_stop == False):\n",
        "          if (token.lemma_ in negative_word_frequency.keys()) and (has_negative_children(token) == False):\n",
        "              negative_word_frequency[token.lemma_] += 1\n",
        "          else:\n",
        "              negative_word_frequency[token.lemma_] = 1\n",
        "        # if (token.pos_ == 'ADJ') and (has_negative_children(token) == False):\n",
        "        #   negative_adjective_list.append(token.lemma_)\n",
        "        # if (token.pos_ == \"ADV\") and (has_negative_children(token) == False):\n",
        "        #   negative_adverb_list.append(token.lemma_)"
      ],
      "execution_count": 342,
      "outputs": []
    },
    {
      "cell_type": "code",
      "metadata": {
        "id": "mbdEGrEmmoOy"
      },
      "source": [
        "# cutRareWords = sorted(negative_word_frequency.items(), key=lambda item: item[1])[7000:-100]\n",
        "# negative_word_frequency = dict(cutRareWords)"
      ],
      "execution_count": 130,
      "outputs": []
    },
    {
      "cell_type": "code",
      "metadata": {
        "colab": {
          "base_uri": "https://localhost:8080/"
        },
        "id": "joBo-diKd-Xq",
        "outputId": "c91cd27f-2e27-4ba6-bbe4-0f7de70c644b"
      },
      "source": [
        "negative_word_frequency['bad']"
      ],
      "execution_count": 347,
      "outputs": [
        {
          "output_type": "execute_result",
          "data": {
            "text/plain": [
              "500"
            ]
          },
          "metadata": {
            "tags": []
          },
          "execution_count": 347
        }
      ]
    },
    {
      "cell_type": "code",
      "metadata": {
        "id": "F7nPsyH4i0J-"
      },
      "source": [
        "negative_word_frequency['bad'] = 500"
      ],
      "execution_count": 346,
      "outputs": []
    },
    {
      "cell_type": "code",
      "metadata": {
        "id": "2JiWq-Tvgwf0"
      },
      "source": [
        "positive_text = \"\"\n",
        "for i in range(1,1500):\n",
        "  if (labels[i] == 1):\n",
        "    positive_text = positive_text + sentences[i]"
      ],
      "execution_count": 301,
      "outputs": []
    },
    {
      "cell_type": "code",
      "metadata": {
        "id": "Bz3sufVWhIzI"
      },
      "source": [
        "positive_text = re.sub(r'[^\\w\\s]','',positive_text)  \n",
        "corpus = nlp(positive_text)"
      ],
      "execution_count": 304,
      "outputs": []
    },
    {
      "cell_type": "code",
      "metadata": {
        "id": "9WMNW7sciPDS"
      },
      "source": [
        "# positive_adverb_list = []\n",
        "# positive_adjective_list = []\n",
        "positive_word_frequency = dict()\n",
        "for sent in corpus.sents:\n",
        "    for token in sent:\n",
        "        if (token.is_stop == False):\n",
        "          if (token.lemma_ in positive_word_frequency.keys()) and (has_negative_children(token) == False):\n",
        "              positive_word_frequency[token.lemma_] += 1\n",
        "          else:\n",
        "              positive_word_frequency[token.lemma_] = 1\n",
        "        # if (token.pos_ == 'ADJ') and (has_negative_children(token) == False):\n",
        "        #   positive_adjective_list.append(token.lemma_)\n",
        "        # if (token.pos_ == 'ADV') and (has_negative_children(token) == False):\n",
        "        #   positive_adverb_list.append(token.lemma_)"
      ],
      "execution_count": 228,
      "outputs": []
    },
    {
      "cell_type": "code",
      "metadata": {
        "id": "QYuiEXtFs_vZ"
      },
      "source": [
        "# cutRareWords = sorted(positive_word_frequency.items(), key=lambda item: item[1])[2000:-20]\n",
        "# positive_word_frequency = dict(cutRareWords)"
      ],
      "execution_count": 136,
      "outputs": []
    },
    {
      "cell_type": "code",
      "metadata": {
        "colab": {
          "base_uri": "https://localhost:8080/"
        },
        "id": "N2O-LLPsiuJd",
        "outputId": "296a8767-e7c1-4ebc-b4e7-5dd1985f8e3e"
      },
      "source": [
        "positive_word_frequency['good']"
      ],
      "execution_count": 348,
      "outputs": [
        {
          "output_type": "execute_result",
          "data": {
            "text/plain": [
              "430"
            ]
          },
          "metadata": {
            "tags": []
          },
          "execution_count": 348
        }
      ]
    },
    {
      "cell_type": "code",
      "metadata": {
        "colab": {
          "base_uri": "https://localhost:8080/"
        },
        "id": "CpsgkFDDi8Qc",
        "outputId": "ab35706e-ddce-4b64-ed56-5c6fe3a9f717"
      },
      "source": [
        "positive_word_frequency['bad']"
      ],
      "execution_count": 349,
      "outputs": [
        {
          "output_type": "execute_result",
          "data": {
            "text/plain": [
              "5"
            ]
          },
          "metadata": {
            "tags": []
          },
          "execution_count": 349
        }
      ]
    },
    {
      "cell_type": "code",
      "metadata": {
        "colab": {
          "base_uri": "https://localhost:8080/",
          "height": 180
        },
        "id": "q96_zuxZ5lfl",
        "outputId": "8ab80325-017b-4bab-c935-496827b368e0"
      },
      "source": [
        "positive_word_frequency['a']"
      ],
      "execution_count": 230,
      "outputs": [
        {
          "output_type": "error",
          "ename": "KeyError",
          "evalue": "ignored",
          "traceback": [
            "\u001b[0;31m---------------------------------------------------------------------------\u001b[0m",
            "\u001b[0;31mKeyError\u001b[0m                                  Traceback (most recent call last)",
            "\u001b[0;32m<ipython-input-230-b7b60127733f>\u001b[0m in \u001b[0;36m<module>\u001b[0;34m()\u001b[0m\n\u001b[0;32m----> 1\u001b[0;31m \u001b[0mpositive_word_frequency\u001b[0m\u001b[0;34m[\u001b[0m\u001b[0;34m'a'\u001b[0m\u001b[0;34m]\u001b[0m\u001b[0;34m\u001b[0m\u001b[0;34m\u001b[0m\u001b[0m\n\u001b[0m",
            "\u001b[0;31mKeyError\u001b[0m: 'a'"
          ]
        }
      ]
    },
    {
      "cell_type": "code",
      "metadata": {
        "id": "VUZDGtDOjLl9"
      },
      "source": [
        "word_values = dict()\n",
        "for word in negative_word_frequency:\n",
        "  if (word not in word_values):\n",
        "    word_values[word] = negative_word_frequency[word]\n",
        "\n",
        "for word in positive_word_frequency:\n",
        "  if (word in word_values):\n",
        "    word_values[word] = positive_word_frequency[word] / (positive_word_frequency[word] + negative_word_frequency[word])\n",
        "  else: \n",
        "    word_values[word] = 1\n",
        "\n",
        "for word in negative_word_frequency:\n",
        "    if (word_values[word] > 1):\n",
        "      word_values[word] = 1\n"
      ],
      "execution_count": 350,
      "outputs": []
    },
    {
      "cell_type": "code",
      "metadata": {
        "colab": {
          "base_uri": "https://localhost:8080/"
        },
        "id": "grpB2Q40iX4X",
        "outputId": "fb7a79e4-e3bb-4101-c0ca-614ce5caaad7"
      },
      "source": [
        "word_values['good']"
      ],
      "execution_count": 351,
      "outputs": [
        {
          "output_type": "execute_result",
          "data": {
            "text/plain": [
              "0.9207708779443254"
            ]
          },
          "metadata": {
            "tags": []
          },
          "execution_count": 351
        }
      ]
    },
    {
      "cell_type": "code",
      "metadata": {
        "colab": {
          "base_uri": "https://localhost:8080/"
        },
        "id": "moiizTCuqGZe",
        "outputId": "13e4f515-4bad-430d-85e3-1c754f31cd5a"
      },
      "source": [
        "word_values['lousy']"
      ],
      "execution_count": 352,
      "outputs": [
        {
          "output_type": "execute_result",
          "data": {
            "text/plain": [
              "0.375"
            ]
          },
          "metadata": {
            "tags": []
          },
          "execution_count": 352
        }
      ]
    },
    {
      "cell_type": "code",
      "metadata": {
        "colab": {
          "base_uri": "https://localhost:8080/"
        },
        "id": "dsgHuNWLqLA0",
        "outputId": "c0d70c9d-aaf5-4136-e237-9cbb82ec2410"
      },
      "source": [
        "word_values['blue']"
      ],
      "execution_count": 353,
      "outputs": [
        {
          "output_type": "execute_result",
          "data": {
            "text/plain": [
              "0.5238095238095238"
            ]
          },
          "metadata": {
            "tags": []
          },
          "execution_count": 353
        }
      ]
    },
    {
      "cell_type": "code",
      "metadata": {
        "id": "9CBPm_46qPBr"
      },
      "source": [
        "import re\n",
        "\n",
        "def get_score(example_sentence):\n",
        "  example_sentence = re.sub(r'[^\\w\\s]','',example_sentence)  \n",
        "  corpus = nlp(example_sentence)\n",
        "  sum = 0\n",
        "  count = 0\n",
        "  for sent in corpus.sents:\n",
        "      for token in sent:\n",
        "\n",
        "        if (token.lemma_ in word_values) and (token.pos_ == 'ADJ' or token.pos_ == 'ADV'):\n",
        "          if (word_values[token.lemma_]) < 0.5:\n",
        "            value = 0.11\n",
        "          else: \n",
        "            value = 0.68\n",
        "          # else: \n",
        "          #   value = 1\n",
        "          sum = sum + 10*value\n",
        "          count = count + 10\n",
        "        # if (token.lemma_ in word_values):\n",
        "        #   if (word_values[token.lemma_]) < 0.5:\n",
        "        #     value = 0\n",
        "        #   else:\n",
        "        #     value = 1\n",
        "        #   sum = sum + value\n",
        "        #   count = count + 1\n",
        "  \n",
        "  if (count == 0):\n",
        "      average_sentiment = 0.5\n",
        "  else:\n",
        "    average_sentiment = sum/count\n",
        "  \n",
        "  return average_sentiment\n"
      ],
      "execution_count": 449,
      "outputs": []
    },
    {
      "cell_type": "code",
      "metadata": {
        "colab": {
          "base_uri": "https://localhost:8080/"
        },
        "id": "c5CDaIKyszjm",
        "outputId": "e26b1098-bbb7-484a-9436-29bcda0ceee7"
      },
      "source": [
        "example_sentence = \"Best movie I have ever seen, amazing job, the director is a genius.\"\n",
        "get_score(example_sentence)"
      ],
      "execution_count": 372,
      "outputs": [
        {
          "output_type": "execute_result",
          "data": {
            "text/plain": [
              "0.8806752940446266"
            ]
          },
          "metadata": {
            "tags": []
          },
          "execution_count": 372
        }
      ]
    },
    {
      "cell_type": "code",
      "metadata": {
        "colab": {
          "base_uri": "https://localhost:8080/"
        },
        "id": "CfFoMHaSs4e_",
        "outputId": "6d6f9e35-f02f-4262-8277-6541814946f5"
      },
      "source": [
        "example_sentence = \"Scary, boring, totally disgusting, yucks.\"\n",
        "get_score(example_sentence)"
      ],
      "execution_count": 373,
      "outputs": [
        {
          "output_type": "execute_result",
          "data": {
            "text/plain": [
              "0.3762939569391182"
            ]
          },
          "metadata": {
            "tags": []
          },
          "execution_count": 373
        }
      ]
    },
    {
      "cell_type": "code",
      "metadata": {
        "colab": {
          "base_uri": "https://localhost:8080/"
        },
        "id": "IuwAlFhVs9gE",
        "outputId": "0ae53b2f-0dff-4b9c-8b2f-59cb8fccdea4"
      },
      "source": [
        "example_sentence = \"Best movie I have ever seen although it had some scary, boring and disgusting scenes.\"\n",
        "get_score(example_sentence)"
      ],
      "execution_count": 374,
      "outputs": [
        {
          "output_type": "execute_result",
          "data": {
            "text/plain": [
              "0.5470168660746819"
            ]
          },
          "metadata": {
            "tags": []
          },
          "execution_count": 374
        }
      ]
    },
    {
      "cell_type": "code",
      "metadata": {
        "colab": {
          "base_uri": "https://localhost:8080/"
        },
        "id": "NWszeYhMwKs9",
        "outputId": "e78ba776-f7a7-4dfc-cc46-89e91e708cb7"
      },
      "source": [
        "correctPositive = 0\n",
        "allPositive = 0\n",
        "correctNegative = 0\n",
        "allNegative = 0\n",
        "for i in range(0,1000):\n",
        "  value = get_score(sentences[i])  \n",
        "  \n",
        "  if (labels[i] == 0):\n",
        "    allNegative += 1\n",
        "    if (value < 0.5):\n",
        "      correctNegative += 1\n",
        "  if (labels[i] == 1):\n",
        "    allPositive += 1\n",
        "    if (value > 0.5):\n",
        "      correctPositive += 1\n",
        "\n",
        "accuracyPositive = correctPositive / allPositive\n",
        "accuracyPositive * 100"
      ],
      "execution_count": 450,
      "outputs": [
        {
          "output_type": "execute_result",
          "data": {
            "text/plain": [
              "74.79838709677419"
            ]
          },
          "metadata": {
            "tags": []
          },
          "execution_count": 450
        }
      ]
    },
    {
      "cell_type": "code",
      "metadata": {
        "id": "OlZHVR9vOlpQ",
        "outputId": "f7f900cc-31de-45c5-af47-55f14ef58ed8",
        "colab": {
          "base_uri": "https://localhost:8080/"
        }
      },
      "source": [
        "accuracyPositive = correctPositive / allPositive\n",
        "accuracyPositive * 100"
      ],
      "execution_count": 451,
      "outputs": [
        {
          "output_type": "execute_result",
          "data": {
            "text/plain": [
              "74.79838709677419"
            ]
          },
          "metadata": {
            "tags": []
          },
          "execution_count": 451
        }
      ]
    },
    {
      "cell_type": "code",
      "metadata": {
        "id": "wSijcOIZFEhV",
        "outputId": "0bf86e53-0b2b-40dc-a7a6-dafb04d6f3df",
        "colab": {
          "base_uri": "https://localhost:8080/"
        }
      },
      "source": [
        "accuracyNegative = correctNegative / allNegative\n",
        "accuracyNegative * 100"
      ],
      "execution_count": 452,
      "outputs": [
        {
          "output_type": "execute_result",
          "data": {
            "text/plain": [
              "81.94444444444444"
            ]
          },
          "metadata": {
            "tags": []
          },
          "execution_count": 452
        }
      ]
    },
    {
      "cell_type": "code",
      "metadata": {
        "id": "-zNNGtWjI8RH",
        "outputId": "649ea5c6-7568-4b7b-96cd-229f2f5c70e9",
        "colab": {
          "base_uri": "https://localhost:8080/"
        }
      },
      "source": [
        "accuracy = (accuracyNegative + accuracyPositive) / 2\n",
        "accuracy*100"
      ],
      "execution_count": 453,
      "outputs": [
        {
          "output_type": "execute_result",
          "data": {
            "text/plain": [
              "78.3714157706093"
            ]
          },
          "metadata": {
            "tags": []
          },
          "execution_count": 453
        }
      ]
    },
    {
      "cell_type": "code",
      "metadata": {
        "colab": {
          "base_uri": "https://localhost:8080/"
        },
        "id": "Tt4fV_1i3xqD",
        "outputId": "871dd7f1-088d-4bbb-f8dd-ec7a23771185"
      },
      "source": [
        "\n",
        "example_sentence = \"the and a.\"\n",
        "print(example_sentence)\n",
        "get_score(example_sentence)"
      ],
      "execution_count": 261,
      "outputs": [
        {
          "output_type": "stream",
          "text": [
            "the and a.\n"
          ],
          "name": "stdout"
        },
        {
          "output_type": "execute_result",
          "data": {
            "text/plain": [
              "0.5"
            ]
          },
          "metadata": {
            "tags": []
          },
          "execution_count": 261
        }
      ]
    },
    {
      "cell_type": "code",
      "metadata": {
        "colab": {
          "base_uri": "https://localhost:8080/"
        },
        "id": "EnMw8yzx6Ev-",
        "outputId": "ff94ea9e-ad8d-4ed0-a4f9-6f88f4198232"
      },
      "source": [
        "word_values['a.']"
      ],
      "execution_count": 262,
      "outputs": [
        {
          "output_type": "execute_result",
          "data": {
            "text/plain": [
              "2"
            ]
          },
          "metadata": {
            "tags": []
          },
          "execution_count": 262
        }
      ]
    },
    {
      "cell_type": "code",
      "metadata": {
        "id": "D9wFlAERAsM3",
        "outputId": "78f1e4a0-a36e-499f-f22a-9c4b3f1567e7",
        "colab": {
          "base_uri": "https://localhost:8080/"
        }
      },
      "source": [
        "word_values['']"
      ],
      "execution_count": 382,
      "outputs": [
        {
          "output_type": "execute_result",
          "data": {
            "text/plain": [
              "0.4594594594594595"
            ]
          },
          "metadata": {
            "tags": []
          },
          "execution_count": 382
        }
      ]
    }
  ]
}